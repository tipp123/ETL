{
 "cells": [
  {
   "cell_type": "code",
   "execution_count": 1,
   "metadata": {},
   "outputs": [],
   "source": [
    "import requests\n",
    "\n",
    "def fetch_air_range(station_id, date_from, date_until):\n",
    "    url = \"https://airviro.klab.ee/station/csv\"\n",
    "    data = {\n",
    "        'filter[type]': 'INDICATOR',\n",
    "        'filter[cancelSearch]': '',\n",
    "        'filter[stationId]': station_id,\n",
    "        'filter[dateFrom]': date_from,\n",
    "        'filter[dateUntil]': date_until,\n",
    "        'filter[submitHit]': '1',\n",
    "        'filter[indicatorIds]': '' \n",
    "    }\n",
    "    response = requests.post(url, data)\n",
    "    return response.text\n",
    "\n",
    "import datetime\n",
    "\n",
    "def get_first_and_last_day_of_month(year, month):\n",
    "    # Get the first day of the month\n",
    "    first_day = datetime.date(year, month, 1)\n",
    "\n",
    "    # Get the number of days in the month\n",
    "    if month == 12:\n",
    "        num_days = 31\n",
    "    else:\n",
    "        num_days = (datetime.date(year, month+1, 1) - datetime.timedelta(days=1)).day\n",
    "\n",
    "    # Get the last day of the month\n",
    "    last_day = datetime.date(year, month, num_days)\n",
    "\n",
    "    return first_day, last_day"
   ]
  },
  {
   "cell_type": "code",
   "execution_count": 3,
   "metadata": {},
   "outputs": [
    {
     "name": "stdout",
     "output_type": "stream",
     "text": [
      "2022-01-01 2022-01-31\n",
      "2022-02-01 2022-02-28\n",
      "2022-03-01 2022-03-31\n",
      "2022-04-01 2022-04-30\n",
      "2022-05-01 2022-05-31\n",
      "2022-06-01 2022-06-30\n",
      "2022-07-01 2022-07-31\n",
      "2022-08-01 2022-08-31\n",
      "2022-09-01 2022-09-30\n",
      "2022-10-01 2022-10-31\n",
      "2022-11-01 2022-11-30\n",
      "2022-12-01 2022-12-31\n"
     ]
    }
   ],
   "source": [
    "for month in range(1,13):\n",
    "    first_day, last_day = get_first_and_last_day_of_month(2022, month)\n",
    "    print(first_day, last_day)\n",
    "\n",
    "    data = fetch_air_range(8, first_day, last_day)\n",
    "\n",
    "    with open(f'air_data/air_{month}.csv', 'w', encoding='UTF-8') as f:\n",
    "        f.write(data)"
   ]
  },
  {
   "cell_type": "code",
   "execution_count": 4,
   "metadata": {},
   "outputs": [],
   "source": [
    "data = []\n",
    "for month in range(1, 13):\n",
    "    with open(f'air_data/air_{month}.csv', 'r') as f:\n",
    "        if month == 1:\n",
    "            header = f.readline()\n",
    "            data.append(header)\n",
    "        else:\n",
    "            f.readline()\n",
    "        data.extend(f.readlines())\n",
    "\n",
    "with open('air_data/air_2022.csv', 'w') as f:\n",
    "    f.writelines(data)"
   ]
  }
 ],
 "metadata": {
  "kernelspec": {
   "display_name": "Python 3",
   "language": "python",
   "name": "python3"
  },
  "language_info": {
   "codemirror_mode": {
    "name": "ipython",
    "version": 3
   },
   "file_extension": ".py",
   "mimetype": "text/x-python",
   "name": "python",
   "nbconvert_exporter": "python",
   "pygments_lexer": "ipython3",
   "version": "3.10.7"
  },
  "orig_nbformat": 4
 },
 "nbformat": 4,
 "nbformat_minor": 2
}
